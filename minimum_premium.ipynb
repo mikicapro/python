{
  "nbformat": 4,
  "nbformat_minor": 0,
  "metadata": {
    "colab": {
      "name": "minimum premium",
      "version": "0.3.2",
      "provenance": [],
      "collapsed_sections": [],
      "include_colab_link": true
    },
    "kernelspec": {
      "name": "python3",
      "display_name": "Python 3"
    }
  },
  "cells": [
    {
      "cell_type": "markdown",
      "metadata": {
        "id": "view-in-github",
        "colab_type": "text"
      },
      "source": [
        "<a href=\"https://colab.research.google.com/github/mikicapro/python/blob/master/minimum_premium.ipynb\" target=\"_parent\"><img src=\"https://colab.research.google.com/assets/colab-badge.svg\" alt=\"Open In Colab\"/></a>"
      ]
    },
    {
      "metadata": {
        "id": "eYX4Lclnypoq",
        "colab_type": "code",
        "outputId": "8b62b827-4c53-400d-e665-96fe9c3e8b71",
        "colab": {
          "base_uri": "https://localhost:8080/",
          "height": 34
        }
      },
      "cell_type": "code",
      "source": [
        "a=5\n",
        "b=50\n",
        "c=150\n",
        "\n",
        "\n",
        "\n",
        "def min(a,b,c):\n",
        "  if(a<b,c):\n",
        "    return (a)\n",
        "  if(b<a,c):\n",
        "    return (b)\n",
        "  if(c<b,a):\n",
        "    return c\n",
        "  if(a==b,b==c,c==a,a==b==c):\n",
        "    print (\"Neki broj je jednak\")\n",
        "    \n",
        "    \n",
        "min (a,b,c)\n",
        "\n",
        "\n",
        "  \n",
        "    \n",
        "  \n",
        "  \n",
        "  \n",
        "  \n",
        "  \n",
        "  \n",
        "  \n",
        "  \n",
        "  \n",
        "                           "
      ],
      "execution_count": 2,
      "outputs": [
        {
          "output_type": "execute_result",
          "data": {
            "text/plain": [
              "5"
            ]
          },
          "metadata": {
            "tags": []
          },
          "execution_count": 2
        }
      ]
    },
    {
      "metadata": {
        "id": "CvWEVF_Apeu3",
        "colab_type": "text"
      },
      "cell_type": "markdown",
      "source": [
        "odredjivane minimalne vrednosti od 3 broja."
      ]
    }
  ]
}