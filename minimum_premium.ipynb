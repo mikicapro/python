{
  "nbformat": 4,
  "nbformat_minor": 0,
  "metadata": {
    "colab": {
      "name": "minimum premium",
      "version": "0.3.2",
      "provenance": [],
      "collapsed_sections": [],
      "include_colab_link": true
    },
    "kernelspec": {
      "name": "python3",
      "display_name": "Python 3"
    }
  },
  "cells": [
    {
      "cell_type": "markdown",
      "metadata": {
        "id": "view-in-github",
        "colab_type": "text"
      },
      "source": [
        "<a href=\"https://colab.research.google.com/github/mikicapro/python/blob/master/minimum_premium.ipynb\" target=\"_parent\"><img src=\"https://colab.research.google.com/assets/colab-badge.svg\" alt=\"Open In Colab\"/></a>"
      ]
    },
    {
      "metadata": {
        "id": "eYX4Lclnypoq",
        "colab_type": "code",
        "colab": {
          "base_uri": "https://localhost:8080/",
          "height": 132
        },
        "outputId": "e23f02d8-229b-466e-f97e-6bfc01e4841a"
      },
      "cell_type": "code",
      "source": [
        "a=5\n",
        "b=50\n",
        "c=150\n",
        "\n",
        "\n",
        "\n",
        "def min(a,b,c):\n",
        "  if(a<b,c):\n",
        "    return (a)\n",
        "  if(b<a,c):\n",
        "    return (b)\n",
        "  if(c<b,a):\n",
        "    return c\n",
        "  if(a==b,b==c,c==a,a==b==c):\n",
        "    print (\"Neki broj je jednak\")\n",
        "    \n",
        "    \n",
        "min (a,b,c)\n",
        "\n",
        "help (if)\n",
        "  \n",
        "    \n",
        "  \n",
        "  \n",
        "  \n",
        "  \n",
        "  \n",
        "  \n",
        "  \n",
        "  \n",
        "  \n",
        "                           "
      ],
      "execution_count": 38,
      "outputs": [
        {
          "output_type": "error",
          "ename": "SyntaxError",
          "evalue": "ignored",
          "traceback": [
            "\u001b[0;36m  File \u001b[0;32m\"<ipython-input-38-78946277cc74>\"\u001b[0;36m, line \u001b[0;32m20\u001b[0m\n\u001b[0;31m    help (if)\u001b[0m\n\u001b[0m           ^\u001b[0m\n\u001b[0;31mSyntaxError\u001b[0m\u001b[0;31m:\u001b[0m invalid syntax\n"
          ]
        }
      ]
    }
  ]
}