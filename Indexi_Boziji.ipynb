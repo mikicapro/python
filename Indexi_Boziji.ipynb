{
  "nbformat": 4,
  "nbformat_minor": 0,
  "metadata": {
    "colab": {
      "name": "Indexi Boziji",
      "version": "0.3.2",
      "provenance": [],
      "include_colab_link": true
    },
    "kernelspec": {
      "name": "python3",
      "display_name": "Python 3"
    }
  },
  "cells": [
    {
      "cell_type": "markdown",
      "metadata": {
        "id": "view-in-github",
        "colab_type": "text"
      },
      "source": [
        "<a href=\"https://colab.research.google.com/github/mikicapro/python/blob/master/Indexi_Boziji.ipynb\" target=\"_parent\"><img src=\"https://colab.research.google.com/assets/colab-badge.svg\" alt=\"Open In Colab\"/></a>"
      ]
    },
    {
      "metadata": {
        "id": "8L7Dv90Mn2Gc",
        "colab_type": "code",
        "colab": {}
      },
      "cell_type": "code",
      "source": [
        "l=[2,3,5,9,11]\n",
        "print (l[0]+l[1])\n",
        "print (l[1]+l[2])\n",
        "print (l[2]+l[3])\n",
        "print (l[3]+l[4])\n"
      ],
      "execution_count": 0,
      "outputs": []
    },
    {
      "metadata": {
        "id": "DFjhadmGwVO_",
        "colab_type": "code",
        "colab": {}
      },
      "cell_type": "code",
      "source": [
        "l2=[]\n",
        "for x in range(0,4):\n",
        "  b=2*l[x]+2*l[x+1]\n",
        "  l2.append(b)\n",
        "  \n",
        "print(l2)\n",
        "\n"
      ],
      "execution_count": 0,
      "outputs": []
    },
    {
      "metadata": {
        "id": "QGs6_RRc0GXY",
        "colab_type": "code",
        "colab": {
          "base_uri": "https://localhost:8080/",
          "height": 34
        },
        "outputId": "dbea3a91-ccf6-428b-ed91-f5330129cf9a"
      },
      "cell_type": "code",
      "source": [
        "l3=[]\n",
        "for x in range(0,5):\n",
        "  b=2*l[x]\n",
        "  l3.append(b)\n",
        "  \n",
        "print(l3)  "
      ],
      "execution_count": 33,
      "outputs": [
        {
          "output_type": "stream",
          "text": [
            "[4, 6, 10, 18, 22]\n"
          ],
          "name": "stdout"
        }
      ]
    }
  ]
}