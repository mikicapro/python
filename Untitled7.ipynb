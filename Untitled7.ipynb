{
  "nbformat": 4,
  "nbformat_minor": 0,
  "metadata": {
    "colab": {
      "name": "Untitled7.ipynb",
      "version": "0.3.2",
      "provenance": [],
      "include_colab_link": true
    },
    "kernelspec": {
      "name": "python3",
      "display_name": "Python 3"
    }
  },
  "cells": [
    {
      "cell_type": "markdown",
      "metadata": {
        "id": "view-in-github",
        "colab_type": "text"
      },
      "source": [
        "<a href=\"https://colab.research.google.com/github/mikicapro/python/blob/master/Untitled7.ipynb\" target=\"_parent\"><img src=\"https://colab.research.google.com/assets/colab-badge.svg\" alt=\"Open In Colab\"/></a>"
      ]
    },
    {
      "metadata": {
        "id": "zhK5IBxd3fiq",
        "colab_type": "code",
        "colab": {}
      },
      "cell_type": "code",
      "source": [
        "s=0\n",
        "l=[2, 3, 9, 4, 8, 6, 18]\n",
        "b = l.__len__()\n",
        "\n",
        "\n",
        "\n",
        "for x in range(0, b):\n",
        "  s=s+l[x]\n",
        "  \n",
        "  \n",
        "  \n",
        "print(s) \n",
        "sr=s/len\n",
        "print(sr)\n",
        "  \n",
        " "
      ],
      "execution_count": 0,
      "outputs": []
    }
  ]
}