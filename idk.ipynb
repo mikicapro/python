{
  "nbformat": 4,
  "nbformat_minor": 0,
  "metadata": {
    "colab": {
      "name": "idk",
      "version": "0.3.2",
      "provenance": [],
      "include_colab_link": true
    },
    "kernelspec": {
      "name": "python3",
      "display_name": "Python 3"
    }
  },
  "cells": [
    {
      "cell_type": "markdown",
      "metadata": {
        "id": "view-in-github",
        "colab_type": "text"
      },
      "source": [
        "<a href=\"https://colab.research.google.com/github/mikicapro/python/blob/master/idk.ipynb\" target=\"_parent\"><img src=\"https://colab.research.google.com/assets/colab-badge.svg\" alt=\"Open In Colab\"/></a>"
      ]
    },
    {
      "metadata": {
        "id": "Bic5qw_o09qO",
        "colab_type": "code",
        "colab": {
          "base_uri": "https://localhost:8080/",
          "height": 86
        },
        "outputId": "133c4430-7d2a-48d0-9623-812d7789aea7"
      },
      "cell_type": "code",
      "source": [
        "b=36\n",
        "l=[]#cinioci\n",
        "for i in range(1,36):\n",
        "  if(b%i==0):\n",
        "    b=b/i\n",
        "    l.append(i)\n",
        "    print(l)\n",
        "  \n",
        "  \n",
        "\n",
        "\n"
      ],
      "execution_count": 21,
      "outputs": [
        {
          "output_type": "stream",
          "text": [
            "[1]\n",
            "[1, 2]\n",
            "[1, 2, 3]\n",
            "[1, 2, 3, 6]\n"
          ],
          "name": "stdout"
        }
      ]
    }
  ]
}