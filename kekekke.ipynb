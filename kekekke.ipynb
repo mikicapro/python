{
  "nbformat": 4,
  "nbformat_minor": 0,
  "metadata": {
    "colab": {
      "name": "kekekke",
      "version": "0.3.2",
      "provenance": [],
      "include_colab_link": true
    },
    "kernelspec": {
      "name": "python2",
      "display_name": "Python 2"
    }
  },
  "cells": [
    {
      "cell_type": "markdown",
      "metadata": {
        "id": "view-in-github",
        "colab_type": "text"
      },
      "source": [
        "<a href=\"https://colab.research.google.com/github/mikicapro/python/blob/master/kekekke.ipynb\" target=\"_parent\"><img src=\"https://colab.research.google.com/assets/colab-badge.svg\" alt=\"Open In Colab\"/></a>"
      ]
    },
    {
      "metadata": {
        "id": "rhzvZ3AA4It-",
        "colab_type": "code",
        "colab": {
          "base_uri": "https://localhost:8080/",
          "height": 35
        },
        "outputId": "86e7a297-289a-4a0f-ec13-6b77a6a3f665"
      },
      "cell_type": "code",
      "source": [
        "s1=(\"miki\")\n",
        "s2=(\"pro\")\n",
        "s3=s1+s2\n",
        "print (s3)"
      ],
      "execution_count": 4,
      "outputs": [
        {
          "output_type": "stream",
          "text": [
            "mikipro\n"
          ],
          "name": "stdout"
        }
      ]
    }
  ]
}