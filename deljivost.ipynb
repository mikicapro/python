{
  "nbformat": 4,
  "nbformat_minor": 0,
  "metadata": {
    "colab": {
      "name": "deljivost",
      "version": "0.3.2",
      "provenance": [],
      "include_colab_link": true
    },
    "kernelspec": {
      "name": "python2",
      "display_name": "Python 2"
    }
  },
  "cells": [
    {
      "cell_type": "markdown",
      "metadata": {
        "id": "view-in-github",
        "colab_type": "text"
      },
      "source": [
        "<a href=\"https://colab.research.google.com/github/mikicapro/python/blob/master/deljivost.ipynb\" target=\"_parent\"><img src=\"https://colab.research.google.com/assets/colab-badge.svg\" alt=\"Open In Colab\"/></a>"
      ]
    },
    {
      "metadata": {
        "id": "EXRaU8MdPYzw",
        "colab_type": "code",
        "outputId": "f57b92d5-2357-4039-b9f8-6b78b4c2cb26",
        "colab": {
          "base_uri": "https://localhost:8080/",
          "height": 35
        }
      },
      "cell_type": "code",
      "source": [
        "for x in range(1,20000):\n",
        "  if (x%18==0)and(x%16==0)and(x%25==0):\n",
        "        print (x)\n",
        "        break\n",
        "        \n",
        "    \n",
        "       \n",
        "      "
      ],
      "execution_count": 0,
      "outputs": [
        {
          "output_type": "stream",
          "text": [
            "3600\n"
          ],
          "name": "stdout"
        }
      ]
    },
    {
      "metadata": {
        "id": "xgctHsnJqTcc",
        "colab_type": "text"
      },
      "cell_type": "markdown",
      "source": [
        "odredjivanje brojeva koji su deljivi s a18 16 25    od         brojave 1-20000."
      ]
    }
  ]
}