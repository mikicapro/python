{
  "nbformat": 4,
  "nbformat_minor": 0,
  "metadata": {
    "colab": {
      "name": "Los mi comp!!!",
      "version": "0.3.2",
      "provenance": [],
      "include_colab_link": true
    },
    "kernelspec": {
      "name": "python3",
      "display_name": "Python 3"
    }
  },
  "cells": [
    {
      "cell_type": "markdown",
      "metadata": {
        "id": "view-in-github",
        "colab_type": "text"
      },
      "source": [
        "<a href=\"https://colab.research.google.com/github/mikicapro/python/blob/master/Los_mi_comp!!!.ipynb\" target=\"_parent\"><img src=\"https://colab.research.google.com/assets/colab-badge.svg\" alt=\"Open In Colab\"/></a>"
      ]
    },
    {
      "metadata": {
        "id": "Bc45pi8znBeB",
        "colab_type": "code",
        "outputId": "2b096d43-70ea-4f1d-9622-4c4adba11a47",
        "colab": {
          "base_uri": "https://localhost:8080/",
          "height": 35
        }
      },
      "cell_type": "code",
      "source": [
        "def naj(x1,x2):\n",
        "  for b in range(x1,x2):\n",
        "    if(b%10==0):\n",
        "      return(b)\n",
        "    \n",
        "x1=1111\n",
        "x2=1151\n",
        "k=naj(x1,x2)\n",
        "print(k)\n",
        " "
      ],
      "execution_count": 53,
      "outputs": [
        {
          "output_type": "stream",
          "text": [
            "1120\n"
          ],
          "name": "stdout"
        }
      ]
    }
  ]
}