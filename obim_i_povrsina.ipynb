{
  "nbformat": 4,
  "nbformat_minor": 0,
  "metadata": {
    "colab": {
      "name": "obim i povrsina",
      "version": "0.3.2",
      "provenance": [],
      "include_colab_link": true
    },
    "kernelspec": {
      "name": "python3",
      "display_name": "Python 3"
    }
  },
  "cells": [
    {
      "cell_type": "markdown",
      "metadata": {
        "id": "view-in-github",
        "colab_type": "text"
      },
      "source": [
        "<a href=\"https://colab.research.google.com/github/mikicapro/python/blob/master/obim_i_povrsina.ipynb\" target=\"_parent\"><img src=\"https://colab.research.google.com/assets/colab-badge.svg\" alt=\"Open In Colab\"/></a>"
      ]
    },
    {
      "metadata": {
        "id": "t5uejzbHvV2N",
        "colab_type": "code",
        "outputId": "61f6616d-0b8a-4bd3-e3d1-30c9d8a23553",
        "colab": {
          "base_uri": "https://localhost:8080/",
          "height": 35
        }
      },
      "cell_type": "code",
      "source": [
        "def obim(y,x):\n",
        "  o=y*2+x*2\n",
        "  return (o)\n",
        "\n",
        "def povrs(c,v):\n",
        "  p=c*v\n",
        "  return (p)\n",
        "\n",
        "p1=povrs(24,84)\n",
        "o1=obim(50,151)\n",
        "print(o1,p1)\n",
        "\n",
        "\n",
        "\n",
        "\n",
        "\n",
        "\n",
        "\n",
        "\n",
        "\n",
        "\n"
      ],
      "execution_count": 0,
      "outputs": [
        {
          "output_type": "stream",
          "text": [
            "402 2016\n"
          ],
          "name": "stdout"
        }
      ]
    },
    {
      "metadata": {
        "id": "P0_xHJ6Co-WS",
        "colab_type": "text"
      },
      "cell_type": "markdown",
      "source": [
        "odredjivanje obima i povrsine pomocu funkcije."
      ]
    }
  ]
}