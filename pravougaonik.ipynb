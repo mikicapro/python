{
  "nbformat": 4,
  "nbformat_minor": 0,
  "metadata": {
    "colab": {
      "name": "pravougaonik",
      "version": "0.3.2",
      "provenance": [],
      "include_colab_link": true
    },
    "kernelspec": {
      "name": "python3",
      "display_name": "Python 3"
    }
  },
  "cells": [
    {
      "cell_type": "markdown",
      "metadata": {
        "id": "view-in-github",
        "colab_type": "text"
      },
      "source": [
        "<a href=\"https://colab.research.google.com/github/mikicapro/python/blob/master/pravougaonik.ipynb\" target=\"_parent\"><img src=\"https://colab.research.google.com/assets/colab-badge.svg\" alt=\"Open In Colab\"/></a>"
      ]
    },
    {
      "metadata": {
        "id": "udSCbDDFNfmd",
        "colab_type": "code",
        "outputId": "4f56a59d-4e2d-4aaf-b71c-a0fabf4f0c71",
        "colab": {
          "base_uri": "https://localhost:8080/",
          "height": 35
        }
      },
      "cell_type": "code",
      "source": [
        "a=4\n",
        "b=5\n",
        "\n",
        "def povrsina(a,b):\n",
        "  return(a*b)\n",
        "\n",
        "def obim(a,b):\n",
        "  return(a*2+b*2)\n",
        "\n",
        "\n",
        "\n",
        "o=obim(a,b)\n",
        "\n",
        "p=povrsina(a,b)\n",
        "\n",
        "print (p,o)\n",
        "\n"
      ],
      "execution_count": 0,
      "outputs": [
        {
          "output_type": "stream",
          "text": [
            "20 18\n"
          ],
          "name": "stdout"
        }
      ]
    },
    {
      "metadata": {
        "id": "qWd5Xt8dn63T",
        "colab_type": "text"
      },
      "cell_type": "markdown",
      "source": [
        "Odredjivanje Povrsine i Obima \\\\\\ pomocu funkcije,Sa datim parametrima>"
      ]
    }
  ]
}