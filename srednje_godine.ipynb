{
  "nbformat": 4,
  "nbformat_minor": 0,
  "metadata": {
    "colab": {
      "name": "srednje godine",
      "version": "0.3.2",
      "provenance": [],
      "include_colab_link": true
    },
    "kernelspec": {
      "name": "python2",
      "display_name": "Python 2"
    }
  },
  "cells": [
    {
      "cell_type": "markdown",
      "metadata": {
        "id": "view-in-github",
        "colab_type": "text"
      },
      "source": [
        "<a href=\"https://colab.research.google.com/github/mikicapro/python/blob/master/srednje_godine.ipynb\" target=\"_parent\"><img src=\"https://colab.research.google.com/assets/colab-badge.svg\" alt=\"Open In Colab\"/></a>"
      ]
    },
    {
      "metadata": {
        "id": "ZCUUW_sCEV7W",
        "colab_type": "code",
        "colab": {
          "base_uri": "https://localhost:8080/",
          "height": 54
        },
        "outputId": "841dd808-95ef-4443-9fc7-8c2ebfac379f"
      },
      "cell_type": "code",
      "source": [
        "list=(6,9,11,13,41,46)\n",
        "s=0\n",
        "for i in list:\n",
        "  s=s+i\n",
        "  \n",
        "print s\n",
        "\n",
        "sg=s/6\n",
        "print sg\n",
        "\n",
        "\n"
      ],
      "execution_count": 4,
      "outputs": [
        {
          "output_type": "stream",
          "text": [
            "126\n",
            "21\n"
          ],
          "name": "stdout"
        }
      ]
    }
  ]
}