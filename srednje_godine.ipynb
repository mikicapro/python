{
  "nbformat": 4,
  "nbformat_minor": 0,
  "metadata": {
    "colab": {
      "name": "srednje godine",
      "version": "0.3.2",
      "provenance": [],
      "include_colab_link": true
    },
    "kernelspec": {
      "name": "python2",
      "display_name": "Python 2"
    }
  },
  "cells": [
    {
      "cell_type": "markdown",
      "metadata": {
        "id": "view-in-github",
        "colab_type": "text"
      },
      "source": [
        "<a href=\"https://colab.research.google.com/github/mikicapro/python/blob/master/srednje_godine.ipynb\" target=\"_parent\"><img src=\"https://colab.research.google.com/assets/colab-badge.svg\" alt=\"Open In Colab\"/></a>"
      ]
    },
    {
      "metadata": {
        "id": "ZCUUW_sCEV7W",
        "colab_type": "code",
        "colab": {
          "base_uri": "https://localhost:8080/",
          "height": 54
        },
        "outputId": "3b74ae9e-c3a0-4b2e-f3a1-187516d566f2"
      },
      "cell_type": "code",
      "source": [
        "list=(6,9,11,13,41,46,)\n",
        "s=0\n",
        "for i in list:\n",
        "  s=s+i\n",
        "  \n",
        "print s\n",
        "\n",
        "sg=s/len(list)\n",
        "print sg\n",
        "\n",
        "\n"
      ],
      "execution_count": 9,
      "outputs": [
        {
          "output_type": "stream",
          "text": [
            "1126\n",
            "160\n"
          ],
          "name": "stdout"
        }
      ]
    }
  ]
}